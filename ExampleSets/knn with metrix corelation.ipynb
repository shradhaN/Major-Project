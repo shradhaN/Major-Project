{
 "cells": [
  {
   "cell_type": "code",
   "execution_count": 11,
   "metadata": {},
   "outputs": [],
   "source": [
    "import numpy as np\n",
    "import pandas as pd\n",
    "\n",
    "import scipy\n",
    "import matplotlib.pyplot as plt\n",
    "from pylab import rcParams\n",
    "import urllib\n",
    "import sklearn\n",
    "from sklearn.neighbors import KNeighborsClassifier\n",
    "from sklearn import neighbors\n",
    "from sklearn import preprocessing\n",
    "from sklearn.cross_validation import train_test_split\n",
    "\n",
    "from sklearn import metrics\n"
   ]
  },
  {
   "cell_type": "code",
   "execution_count": 12,
   "metadata": {},
   "outputs": [],
   "source": [
    "np.set_printoptions(precision=4,suppress= True)\n",
    "%matplotlib inline\n",
    "rcParams['figure.figsize'] = 7,4\n",
    "plt.style.use('seaborn-whitegrid')"
   ]
  },
  {
   "cell_type": "code",
   "execution_count": 13,
   "metadata": {},
   "outputs": [
    {
     "name": "stdout",
     "output_type": "stream",
     "text": [
      "             precision    recall  f1-score   support\n",
      "\n",
      "          0       1.00      1.00      1.00      2465\n",
      "          1       1.00      1.00      1.00       464\n",
      "\n",
      "avg / total       1.00      1.00      1.00      2929\n",
      "\n"
     ]
    }
   ],
   "source": [
    "df = pd.read_csv(\"Firewall_final_normalized.csv\")\n",
    "\n",
    "X = np.array(df.drop(['7'],1))\n",
    "y = np.array(df['7'])\n",
    "y = y.astype(\"int\")\n",
    "\n",
    "Xa= preprocessing.scale(X)\n",
    "\n",
    "Xa_train, Xa_test, y_train, y_test = train_test_split(Xa, y, test_size= .33 , random_state=17)\n",
    "\n",
    "y_expect = y_test\n",
    "y_pred = clf.predict(Xa_test)\n",
    "\n",
    "print(metrics.classification_report(y_expect, y_pred))"
   ]
  }
 ],
 "metadata": {
  "kernelspec": {
   "display_name": "Python 3",
   "language": "python",
   "name": "python3"
  },
  "language_info": {
   "codemirror_mode": {
    "name": "ipython",
    "version": 3
   },
   "file_extension": ".py",
   "mimetype": "text/x-python",
   "name": "python",
   "nbconvert_exporter": "python",
   "pygments_lexer": "ipython3",
   "version": "3.5.2"
  }
 },
 "nbformat": 4,
 "nbformat_minor": 2
}
